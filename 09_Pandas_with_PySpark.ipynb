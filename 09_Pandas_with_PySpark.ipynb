{
 "cells": [
  {
   "cell_type": "markdown",
   "metadata": {
    "application/vnd.databricks.v1+cell": {
     "cellMetadata": {},
     "inputWidgets": {},
     "nuid": "04c062f6-9d50-4e73-b33c-09a9d27ec6bb",
     "showTitle": false,
     "title": ""
    }
   },
   "source": [
    "# What is Pandas ?"
   ]
  },
  {
   "cell_type": "markdown",
   "metadata": {
    "application/vnd.databricks.v1+cell": {
     "cellMetadata": {},
     "inputWidgets": {},
     "nuid": "6209da05-9775-487a-afe0-ae7ec3d5968a",
     "showTitle": false,
     "title": ""
    }
   },
   "source": [
    " - Pandas a Python Library\n",
    " - Data Analysis\n",
    " - Data Manipulation Library\n",
    " - Visualization\n",
    " - Written in Python"
   ]
  },
  {
   "cell_type": "markdown",
   "metadata": {
    "application/vnd.databricks.v1+cell": {
     "cellMetadata": {},
     "inputWidgets": {},
     "nuid": "adc128fc-6348-46e7-b024-04fd8eb8ddfb",
     "showTitle": false,
     "title": ""
    }
   },
   "source": [
    "# Installation for Pandas"
   ]
  },
  {
   "cell_type": "code",
   "execution_count": 0,
   "metadata": {
    "application/vnd.databricks.v1+cell": {
     "cellMetadata": {},
     "inputWidgets": {},
     "nuid": "3c5a29b4-a254-474d-8487-db6320fb7786",
     "showTitle": false,
     "title": ""
    }
   },
   "outputs": [],
   "source": [
    "! pip3 install pandas\n",
    "! pip install matplotlib\n",
    "or\n",
    "! pip3 install matplotblib"
   ]
  },
  {
   "cell_type": "markdown",
   "metadata": {
    "application/vnd.databricks.v1+cell": {
     "cellMetadata": {},
     "inputWidgets": {},
     "nuid": "81580cd4-714f-49d8-9bb3-0226ef238a76",
     "showTitle": false,
     "title": ""
    }
   },
   "source": [
    "# How to get Data from Sources (csv,parquet,json) ?"
   ]
  },
  {
   "cell_type": "code",
   "execution_count": 0,
   "metadata": {
    "application/vnd.databricks.v1+cell": {
     "cellMetadata": {},
     "inputWidgets": {},
     "nuid": "3fb1e837-15a7-4ccd-b7d0-d5e0ed201fe0",
     "showTitle": false,
     "title": ""
    }
   },
   "outputs": [],
   "source": [
    "import pandas as pd\n",
    "import matplotlib.pyplot as plt"
   ]
  },
  {
   "cell_type": "code",
   "execution_count": 0,
   "metadata": {
    "application/vnd.databricks.v1+cell": {
     "cellMetadata": {},
     "inputWidgets": {},
     "nuid": "6ec66376-2f88-44d4-a140-e24906c47522",
     "showTitle": false,
     "title": ""
    }
   },
   "outputs": [],
   "source": [
    "empPD = pd.read_csv('data/emp.csv')"
   ]
  },
  {
   "cell_type": "code",
   "execution_count": 0,
   "metadata": {
    "application/vnd.databricks.v1+cell": {
     "cellMetadata": {},
     "inputWidgets": {},
     "nuid": "e1296088-fdec-482e-b4bb-1ace4dcbe66a",
     "showTitle": false,
     "title": ""
    }
   },
   "outputs": [],
   "source": [
    "print(empPD)"
   ]
  },
  {
   "cell_type": "code",
   "execution_count": 0,
   "metadata": {
    "application/vnd.databricks.v1+cell": {
     "cellMetadata": {},
     "inputWidgets": {},
     "nuid": "109a3f44-d131-4718-b6c6-5be319007c54",
     "showTitle": false,
     "title": ""
    }
   },
   "outputs": [],
   "source": [
    "empPD.show()"
   ]
  },
  {
   "cell_type": "code",
   "execution_count": 0,
   "metadata": {
    "application/vnd.databricks.v1+cell": {
     "cellMetadata": {},
     "inputWidgets": {},
     "nuid": "a2091dc3-42a4-497d-87e9-0d95e4fc2ff4",
     "showTitle": false,
     "title": ""
    }
   },
   "outputs": [],
   "source": [
    "empPD"
   ]
  },
  {
   "cell_type": "code",
   "execution_count": 0,
   "metadata": {
    "application/vnd.databricks.v1+cell": {
     "cellMetadata": {},
     "inputWidgets": {},
     "nuid": "a54668d8-8140-4238-9009-5eec8974c9d1",
     "showTitle": false,
     "title": ""
    }
   },
   "outputs": [],
   "source": [
    "newselectedDF = empPD[['emp_id','emp_name','emp_salary']]"
   ]
  },
  {
   "cell_type": "code",
   "execution_count": 0,
   "metadata": {
    "application/vnd.databricks.v1+cell": {
     "cellMetadata": {},
     "inputWidgets": {},
     "nuid": "e5a5323f-6db9-4696-b37e-e48336ceb706",
     "showTitle": false,
     "title": ""
    }
   },
   "outputs": [],
   "source": [
    "newselectedDF"
   ]
  },
  {
   "cell_type": "code",
   "execution_count": 0,
   "metadata": {
    "application/vnd.databricks.v1+cell": {
     "cellMetadata": {},
     "inputWidgets": {},
     "nuid": "c33abc17-a1db-4f76-9d03-6b83b6494a83",
     "showTitle": false,
     "title": ""
    }
   },
   "outputs": [],
   "source": [
    "type(empPD)"
   ]
  },
  {
   "cell_type": "code",
   "execution_count": 0,
   "metadata": {
    "application/vnd.databricks.v1+cell": {
     "cellMetadata": {},
     "inputWidgets": {},
     "nuid": "a690d16d-bbff-4204-bdfb-f5dc7e5c0dfd",
     "showTitle": false,
     "title": ""
    }
   },
   "outputs": [],
   "source": [
    "type(newselectedDF)"
   ]
  },
  {
   "cell_type": "code",
   "execution_count": 0,
   "metadata": {
    "application/vnd.databricks.v1+cell": {
     "cellMetadata": {},
     "inputWidgets": {},
     "nuid": "eb8bbf64-937c-47fc-8bc6-ae91442d18c6",
     "showTitle": false,
     "title": ""
    }
   },
   "outputs": [],
   "source": [
    "#avg_salary = empPD.avg(empPD['emp_salary'])\n",
    "empPD.avg(mean.['emp_salary'])"
   ]
  },
  {
   "cell_type": "code",
   "execution_count": 0,
   "metadata": {
    "application/vnd.databricks.v1+cell": {
     "cellMetadata": {},
     "inputWidgets": {},
     "nuid": "0da342d1-e10f-450c-8a19-eea6a820f9e3",
     "showTitle": false,
     "title": ""
    }
   },
   "outputs": [],
   "source": [
    "empPD.min(empPD['emp_salary'])"
   ]
  },
  {
   "cell_type": "code",
   "execution_count": 0,
   "metadata": {
    "application/vnd.databricks.v1+cell": {
     "cellMetadata": {},
     "inputWidgets": {},
     "nuid": "b42fbf76-a0c7-4120-b391-06d15870ae52",
     "showTitle": false,
     "title": ""
    }
   },
   "outputs": [],
   "source": [
    "empsalaryDF = empPD[['emp_salary']]"
   ]
  },
  {
   "cell_type": "code",
   "execution_count": 0,
   "metadata": {
    "application/vnd.databricks.v1+cell": {
     "cellMetadata": {},
     "inputWidgets": {},
     "nuid": "1dd22acb-6b3f-4768-86c6-5f229c7c2b55",
     "showTitle": false,
     "title": ""
    }
   },
   "outputs": [],
   "source": [
    "empsalaryDF.min()"
   ]
  },
  {
   "cell_type": "code",
   "execution_count": 0,
   "metadata": {
    "application/vnd.databricks.v1+cell": {
     "cellMetadata": {},
     "inputWidgets": {},
     "nuid": "8d3b4f0b-9755-4d5b-89fd-9e14cdfa28ce",
     "showTitle": false,
     "title": ""
    }
   },
   "outputs": [],
   "source": [
    "empPD[['emp_salary']].min()"
   ]
  },
  {
   "cell_type": "code",
   "execution_count": 0,
   "metadata": {
    "application/vnd.databricks.v1+cell": {
     "cellMetadata": {},
     "inputWidgets": {},
     "nuid": "2d885262-2256-4e04-a0a2-460539005e0e",
     "showTitle": false,
     "title": ""
    }
   },
   "outputs": [],
   "source": [
    "empPD[['emp_salary']].max()"
   ]
  },
  {
   "cell_type": "code",
   "execution_count": 0,
   "metadata": {
    "application/vnd.databricks.v1+cell": {
     "cellMetadata": {},
     "inputWidgets": {},
     "nuid": "b762c2de-32e6-49ce-9c4b-d277ac1e7685",
     "showTitle": false,
     "title": ""
    }
   },
   "outputs": [],
   "source": [
    "empPD[['emp_salary']].avg()"
   ]
  },
  {
   "cell_type": "code",
   "execution_count": 0,
   "metadata": {
    "application/vnd.databricks.v1+cell": {
     "cellMetadata": {},
     "inputWidgets": {},
     "nuid": "32e9679e-6d49-4386-bb54-d69e9a5671ce",
     "showTitle": false,
     "title": ""
    }
   },
   "outputs": [],
   "source": [
    "empPD[['emp_salary']].mean()"
   ]
  },
  {
   "cell_type": "code",
   "execution_count": 0,
   "metadata": {
    "application/vnd.databricks.v1+cell": {
     "cellMetadata": {},
     "inputWidgets": {},
     "nuid": "f69773a0-51a7-48da-9f94-9f653a1ae9af",
     "showTitle": false,
     "title": ""
    }
   },
   "outputs": [],
   "source": [
    "import matplotlib as plt"
   ]
  },
  {
   "cell_type": "code",
   "execution_count": 0,
   "metadata": {
    "application/vnd.databricks.v1+cell": {
     "cellMetadata": {},
     "inputWidgets": {},
     "nuid": "6f07fc83-49bd-46b2-9b5c-c1ce4980e12d",
     "showTitle": false,
     "title": ""
    }
   },
   "outputs": [],
   "source": [
    "! pip3 install matplotlib"
   ]
  },
  {
   "cell_type": "code",
   "execution_count": 0,
   "metadata": {
    "application/vnd.databricks.v1+cell": {
     "cellMetadata": {},
     "inputWidgets": {},
     "nuid": "cd4c0ffc-ebc8-4e37-86bb-fc8d7bcf3961",
     "showTitle": false,
     "title": ""
    }
   },
   "outputs": [],
   "source": [
    "import matplotlib as plt"
   ]
  },
  {
   "cell_type": "code",
   "execution_count": 0,
   "metadata": {
    "application/vnd.databricks.v1+cell": {
     "cellMetadata": {},
     "inputWidgets": {},
     "nuid": "785fb262-263f-4e00-8f30-cc20aab84eff",
     "showTitle": false,
     "title": ""
    }
   },
   "outputs": [],
   "source": [
    "rentalDF = pd.read_csv('data/rental_properties.csv')"
   ]
  },
  {
   "cell_type": "code",
   "execution_count": 0,
   "metadata": {
    "application/vnd.databricks.v1+cell": {
     "cellMetadata": {},
     "inputWidgets": {},
     "nuid": "8d7daa98-8396-48cc-9b9d-205fca20bf50",
     "showTitle": false,
     "title": ""
    }
   },
   "outputs": [],
   "source": [
    "type(rentalDF)"
   ]
  },
  {
   "cell_type": "code",
   "execution_count": 0,
   "metadata": {
    "application/vnd.databricks.v1+cell": {
     "cellMetadata": {},
     "inputWidgets": {},
     "nuid": "9978c440-3884-40f1-8417-0be4d9b9ad4c",
     "showTitle": false,
     "title": ""
    }
   },
   "outputs": [],
   "source": [
    "rentalDF.head(5)"
   ]
  },
  {
   "cell_type": "code",
   "execution_count": 0,
   "metadata": {
    "application/vnd.databricks.v1+cell": {
     "cellMetadata": {},
     "inputWidgets": {},
     "nuid": "40271cbd-5b72-4c95-ae42-a341afe5d249",
     "showTitle": false,
     "title": ""
    }
   },
   "outputs": [],
   "source": [
    "rentalDF.tail(5)"
   ]
  },
  {
   "cell_type": "code",
   "execution_count": 0,
   "metadata": {
    "application/vnd.databricks.v1+cell": {
     "cellMetadata": {},
     "inputWidgets": {},
     "nuid": "e98aa2fa-47c0-40ab-81b9-b6fbbc931e54",
     "showTitle": false,
     "title": ""
    }
   },
   "outputs": [],
   "source": [
    "rentalDF.dtypes"
   ]
  },
  {
   "cell_type": "code",
   "execution_count": 0,
   "metadata": {
    "application/vnd.databricks.v1+cell": {
     "cellMetadata": {},
     "inputWidgets": {},
     "nuid": "23303be3-dbca-4a0f-bb8c-ab0302cf3585",
     "showTitle": false,
     "title": ""
    }
   },
   "outputs": [],
   "source": [
    "rentalDF"
   ]
  },
  {
   "cell_type": "code",
   "execution_count": 0,
   "metadata": {
    "application/vnd.databricks.v1+cell": {
     "cellMetadata": {},
     "inputWidgets": {},
     "nuid": "8e3cdb2d-ae1a-4c10-880d-cbe6c57927e3",
     "showTitle": false,
     "title": ""
    }
   },
   "outputs": [],
   "source": [
    "rentalDF.plot('sqft','rent')"
   ]
  },
  {
   "cell_type": "code",
   "execution_count": 0,
   "metadata": {
    "application/vnd.databricks.v1+cell": {
     "cellMetadata": {},
     "inputWidgets": {},
     "nuid": "c04dbb93-78f6-4916-a520-79c3e9962dfb",
     "showTitle": false,
     "title": ""
    }
   },
   "outputs": [],
   "source": [
    "linearDF = pd.read_csv('data/linear.csv')"
   ]
  },
  {
   "cell_type": "code",
   "execution_count": 0,
   "metadata": {
    "application/vnd.databricks.v1+cell": {
     "cellMetadata": {},
     "inputWidgets": {},
     "nuid": "d58022f5-ad21-4bf5-8814-76ae9449ef54",
     "showTitle": false,
     "title": ""
    }
   },
   "outputs": [],
   "source": [
    "import pandas as pd"
   ]
  },
  {
   "cell_type": "code",
   "execution_count": 0,
   "metadata": {
    "application/vnd.databricks.v1+cell": {
     "cellMetadata": {},
     "inputWidgets": {},
     "nuid": "709a9894-cd12-4e5d-9948-5160426f095e",
     "showTitle": false,
     "title": ""
    }
   },
   "outputs": [],
   "source": [
    "linearDF = pd.read_csv('data/linear.csv')"
   ]
  },
  {
   "cell_type": "code",
   "execution_count": 0,
   "metadata": {
    "application/vnd.databricks.v1+cell": {
     "cellMetadata": {},
     "inputWidgets": {},
     "nuid": "031ad950-bd1e-420a-b719-3953b55d1736",
     "showTitle": false,
     "title": ""
    }
   },
   "outputs": [],
   "source": [
    "linearDF"
   ]
  },
  {
   "cell_type": "code",
   "execution_count": 0,
   "metadata": {
    "application/vnd.databricks.v1+cell": {
     "cellMetadata": {},
     "inputWidgets": {},
     "nuid": "dc5bdf3f-8405-4dfc-8ef4-317d6527729f",
     "showTitle": false,
     "title": ""
    }
   },
   "outputs": [],
   "source": [
    "linearDF.plot.scatter('input','output')"
   ]
  },
  {
   "cell_type": "code",
   "execution_count": 0,
   "metadata": {
    "application/vnd.databricks.v1+cell": {
     "cellMetadata": {},
     "inputWidgets": {},
     "nuid": "8bcdef3a-5c3d-46bb-aa8a-02bda63fb9b0",
     "showTitle": false,
     "title": ""
    }
   },
   "outputs": [],
   "source": []
  }
 ],
 "metadata": {
  "application/vnd.databricks.v1+notebook": {
   "dashboards": [],
   "language": "python",
   "notebookMetadata": {
    "pythonIndentUnit": 4
   },
   "notebookName": "09_Pandas_with_PySpark",
   "widgets": {}
  },
  "kernelspec": {
   "display_name": "Python 3 (ipykernel)",
   "language": "python",
   "name": "python3"
  },
  "language_info": {
   "codemirror_mode": {
    "name": "ipython",
    "version": 3
   },
   "file_extension": ".py",
   "mimetype": "text/x-python",
   "name": "python",
   "nbconvert_exporter": "python",
   "pygments_lexer": "ipython3",
   "version": "3.12.1"
  }
 },
 "nbformat": 4,
 "nbformat_minor": 0
}
