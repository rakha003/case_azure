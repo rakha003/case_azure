{
 "cells": [
  {
   "cell_type": "code",
   "execution_count": 0,
   "metadata": {
    "application/vnd.databricks.v1+cell": {
     "cellMetadata": {
      "byteLimit": 2048000,
      "rowLimit": 10000
     },
     "inputWidgets": {},
     "nuid": "e5b7b7bb-611d-4c6b-938c-fcf9a4517070",
     "showTitle": false,
     "title": ""
    }
   },
   "outputs": [],
   "source": [
    "from pyspark.sql import SparkSession\n",
    "\n",
    "spark = SparkSession.builder.getOrCreate()"
   ]
  },
  {
   "cell_type": "code",
   "execution_count": 0,
   "metadata": {
    "application/vnd.databricks.v1+cell": {
     "cellMetadata": {},
     "inputWidgets": {},
     "nuid": "a116a60c-ef61-49f2-bfcc-121f42522144",
     "showTitle": false,
     "title": ""
    }
   },
   "outputs": [],
   "source": [
    "empDF = spark.read.csv('data/emp.csv',header=True,inferSchema=True)"
   ]
  },
  {
   "cell_type": "code",
   "execution_count": 0,
   "metadata": {
    "application/vnd.databricks.v1+cell": {
     "cellMetadata": {},
     "inputWidgets": {},
     "nuid": "b213edd6-ed92-437f-96a7-a053203c210d",
     "showTitle": false,
     "title": ""
    }
   },
   "outputs": [],
   "source": [
    "display(empDF)"
   ]
  },
  {
   "cell_type": "code",
   "execution_count": 0,
   "metadata": {
    "application/vnd.databricks.v1+cell": {
     "cellMetadata": {
      "byteLimit": 2048000,
      "rowLimit": 10000
     },
     "inputWidgets": {},
     "nuid": "2dcc39fc-c03d-441b-9c14-f3d77b601bea",
     "showTitle": false,
     "title": ""
    }
   },
   "outputs": [],
   "source": [
    "print(type(empDF))"
   ]
  },
  {
   "cell_type": "code",
   "execution_count": 0,
   "metadata": {
    "application/vnd.databricks.v1+cell": {
     "cellMetadata": {
      "byteLimit": 2048000,
      "rowLimit": 10000
     },
     "inputWidgets": {},
     "nuid": "7c492c08-c3fa-44c7-b057-875b24ad2c10",
     "showTitle": false,
     "title": ""
    }
   },
   "outputs": [],
   "source": [
    "empDF.show()"
   ]
  },
  {
   "cell_type": "code",
   "execution_count": 0,
   "metadata": {
    "application/vnd.databricks.v1+cell": {
     "cellMetadata": {
      "byteLimit": 2048000,
      "rowLimit": 10000
     },
     "inputWidgets": {},
     "nuid": "ce932604-38b8-446e-8bc0-2c78131446b3",
     "showTitle": false,
     "title": ""
    }
   },
   "outputs": [],
   "source": [
    "empDF.show()"
   ]
  },
  {
   "cell_type": "code",
   "execution_count": 0,
   "metadata": {
    "application/vnd.databricks.v1+cell": {
     "cellMetadata": {
      "byteLimit": 2048000,
      "rowLimit": 10000
     },
     "inputWidgets": {},
     "nuid": "b5f057a2-7024-4dc9-a141-d2a3baf570b3",
     "showTitle": false,
     "title": ""
    }
   },
   "outputs": [],
   "source": [
    "empDF.dtypes"
   ]
  },
  {
   "cell_type": "code",
   "execution_count": 0,
   "metadata": {
    "application/vnd.databricks.v1+cell": {
     "cellMetadata": {
      "byteLimit": 2048000,
      "rowLimit": 10000
     },
     "inputWidgets": {},
     "nuid": "2bccb83b-d633-4496-9873-be02261d9de2",
     "showTitle": false,
     "title": ""
    }
   },
   "outputs": [],
   "source": [
    "empDF.show()"
   ]
  },
  {
   "cell_type": "code",
   "execution_count": 0,
   "metadata": {
    "application/vnd.databricks.v1+cell": {
     "cellMetadata": {
      "byteLimit": 2048000,
      "rowLimit": 10000
     },
     "inputWidgets": {},
     "nuid": "9e1ed8e4-46b6-442c-a22e-08fc213d2a46",
     "showTitle": false,
     "title": ""
    }
   },
   "outputs": [],
   "source": [
    "empDF.dtypes"
   ]
  },
  {
   "cell_type": "code",
   "execution_count": 0,
   "metadata": {
    "application/vnd.databricks.v1+cell": {
     "cellMetadata": {
      "byteLimit": 2048000,
      "rowLimit": 10000
     },
     "inputWidgets": {},
     "nuid": "da019091-ff2f-46f2-ac72-ad74afa5c5f9",
     "showTitle": false,
     "title": ""
    }
   },
   "outputs": [],
   "source": [
    "newempDF = empDF['emp_id','emp_name','emp_designation','emp_salary','emp_department']"
   ]
  },
  {
   "cell_type": "code",
   "execution_count": 0,
   "metadata": {
    "application/vnd.databricks.v1+cell": {
     "cellMetadata": {
      "byteLimit": 2048000,
      "rowLimit": 10000
     },
     "inputWidgets": {},
     "nuid": "e2e0af88-3148-4fb8-80cc-ced18a2ca24c",
     "showTitle": false,
     "title": ""
    }
   },
   "outputs": [],
   "source": [
    "empDF.show()"
   ]
  },
  {
   "cell_type": "code",
   "execution_count": 0,
   "metadata": {
    "application/vnd.databricks.v1+cell": {
     "cellMetadata": {
      "byteLimit": 2048000,
      "rowLimit": 10000
     },
     "inputWidgets": {},
     "nuid": "126002c9-9f0a-4f4d-bd39-92c7543de2e9",
     "showTitle": false,
     "title": ""
    }
   },
   "outputs": [],
   "source": [
    "newempDF.show()"
   ]
  },
  {
   "cell_type": "code",
   "execution_count": 0,
   "metadata": {
    "application/vnd.databricks.v1+cell": {
     "cellMetadata": {
      "byteLimit": 2048000,
      "rowLimit": 10000
     },
     "inputWidgets": {},
     "nuid": "1a22c743-e512-46a4-8abc-e5330a476aae",
     "showTitle": false,
     "title": ""
    }
   },
   "outputs": [],
   "source": [
    "filteredDF = empDF.filter(empDF['emp_salary']>60000)"
   ]
  },
  {
   "cell_type": "code",
   "execution_count": 0,
   "metadata": {
    "application/vnd.databricks.v1+cell": {
     "cellMetadata": {
      "byteLimit": 2048000,
      "rowLimit": 10000
     },
     "inputWidgets": {},
     "nuid": "b9e33867-831d-401d-9d18-1bc8f96abf33",
     "showTitle": false,
     "title": ""
    }
   },
   "outputs": [],
   "source": [
    "filteredDF.show()"
   ]
  },
  {
   "cell_type": "code",
   "execution_count": 0,
   "metadata": {
    "application/vnd.databricks.v1+cell": {
     "cellMetadata": {
      "byteLimit": 2048000,
      "rowLimit": 10000
     },
     "inputWidgets": {},
     "nuid": "07e5e096-7f58-4015-9543-5f7fd7b2eab6",
     "showTitle": false,
     "title": ""
    }
   },
   "outputs": [],
   "source": [
    "# MaxSalary\n",
    "# MinSalary\n",
    "# AvgSalary"
   ]
  },
  {
   "cell_type": "code",
   "execution_count": 0,
   "metadata": {
    "application/vnd.databricks.v1+cell": {
     "cellMetadata": {
      "byteLimit": 2048000,
      "rowLimit": 10000
     },
     "inputWidgets": {},
     "nuid": "00b02d3c-6c06-4fcd-94e5-55d37cc90953",
     "showTitle": false,
     "title": ""
    }
   },
   "outputs": [],
   "source": [
    "#df.agg({\"age\": \"max\"}).show()\n",
    "maxSalary = empDF.agg({\"emp_salary\":\"max\"})\n",
    "maxSalary.show()"
   ]
  },
  {
   "cell_type": "code",
   "execution_count": 0,
   "metadata": {
    "application/vnd.databricks.v1+cell": {
     "cellMetadata": {
      "byteLimit": 2048000,
      "rowLimit": 10000
     },
     "inputWidgets": {},
     "nuid": "bada0726-9208-4994-9755-afffb6202f2a",
     "showTitle": false,
     "title": ""
    }
   },
   "outputs": [],
   "source": [
    "#df.agg({\"age\": \"max\"}).show()\n",
    "minSalary = empDF.agg({\"emp_salary\":\"min\"})\n",
    "minSalary.show()"
   ]
  },
  {
   "cell_type": "code",
   "execution_count": 0,
   "metadata": {
    "application/vnd.databricks.v1+cell": {
     "cellMetadata": {
      "byteLimit": 2048000,
      "rowLimit": 10000
     },
     "inputWidgets": {},
     "nuid": "d5235d88-c1bc-4c7a-9974-e32ec3d76a50",
     "showTitle": false,
     "title": ""
    }
   },
   "outputs": [],
   "source": [
    "#df.agg({\"age\": \"max\"}).show()\n",
    "avgSalary = empDF.agg({\"emp_salary\":\"avg\"})\n",
    "avgSalary.show()"
   ]
  },
  {
   "cell_type": "code",
   "execution_count": 0,
   "metadata": {
    "application/vnd.databricks.v1+cell": {
     "cellMetadata": {},
     "inputWidgets": {},
     "nuid": "e14d4204-03f6-44a4-b67f-3608563c8669",
     "showTitle": false,
     "title": ""
    }
   },
   "outputs": [],
   "source": [
    "empDF.count()"
   ]
  },
  {
   "cell_type": "code",
   "execution_count": 0,
   "metadata": {
    "application/vnd.databricks.v1+cell": {
     "cellMetadata": {},
     "inputWidgets": {},
     "nuid": "e54bdf8f-cfc3-4aaa-b3c6-8a2f586c95c2",
     "showTitle": false,
     "title": ""
    }
   },
   "outputs": [],
   "source": [
    "empDF.head(1)"
   ]
  },
  {
   "cell_type": "code",
   "execution_count": 0,
   "metadata": {
    "application/vnd.databricks.v1+cell": {
     "cellMetadata": {},
     "inputWidgets": {},
     "nuid": "b278d738-f924-4bb6-828e-2f7252ff5908",
     "showTitle": false,
     "title": ""
    }
   },
   "outputs": [],
   "source": [
    "empDF.tail(1)"
   ]
  },
  {
   "cell_type": "code",
   "execution_count": 0,
   "metadata": {
    "application/vnd.databricks.v1+cell": {
     "cellMetadata": {
      "byteLimit": 2048000,
      "rowLimit": 10000
     },
     "inputWidgets": {},
     "nuid": "c646e946-19d4-42b4-972e-6149e48f69ec",
     "showTitle": false,
     "title": ""
    }
   },
   "outputs": [],
   "source": [
    "#pyspark.sql.DataFrame.createOrReplaceTempView¶\n",
    "\n",
    "empDF.createOrReplaceTempView('empView')"
   ]
  },
  {
   "cell_type": "code",
   "execution_count": 0,
   "metadata": {
    "application/vnd.databricks.v1+cell": {
     "cellMetadata": {
      "byteLimit": 2048000,
      "rowLimit": 10000
     },
     "inputWidgets": {},
     "nuid": "ef3a15f6-aeab-4dc9-adc5-da31e7351832",
     "showTitle": false,
     "title": ""
    }
   },
   "outputs": [],
   "source": [
    "spark.catalog.listTables()"
   ]
  },
  {
   "cell_type": "code",
   "execution_count": 0,
   "metadata": {
    "application/vnd.databricks.v1+cell": {
     "cellMetadata": {
      "byteLimit": 2048000,
      "rowLimit": 10000
     },
     "inputWidgets": {},
     "nuid": "2cc3d3e6-d328-4471-8a13-4506b2657b59",
     "showTitle": false,
     "title": ""
    }
   },
   "outputs": [],
   "source": [
    "avgSalaryQuery = 'SELECT avg(emp_salary) as AVGEMPSalary FROM empView'"
   ]
  },
  {
   "cell_type": "code",
   "execution_count": 0,
   "metadata": {
    "application/vnd.databricks.v1+cell": {
     "cellMetadata": {
      "byteLimit": 2048000,
      "rowLimit": 10000
     },
     "inputWidgets": {},
     "nuid": "f82c045a-dce0-48af-8a79-547bb27fc691",
     "showTitle": false,
     "title": ""
    }
   },
   "outputs": [],
   "source": [
    "avgSalaryResults = spark.sql(avgSalaryQuery)"
   ]
  },
  {
   "cell_type": "code",
   "execution_count": 0,
   "metadata": {
    "application/vnd.databricks.v1+cell": {
     "cellMetadata": {
      "byteLimit": 2048000,
      "rowLimit": 10000
     },
     "inputWidgets": {},
     "nuid": "921d5dc1-6616-4096-9055-d533fa062523",
     "showTitle": false,
     "title": ""
    }
   },
   "outputs": [],
   "source": [
    "avgSalaryResults.show()"
   ]
  },
  {
   "cell_type": "code",
   "execution_count": 0,
   "metadata": {
    "application/vnd.databricks.v1+cell": {
     "cellMetadata": {},
     "inputWidgets": {},
     "nuid": "02c77099-c0c2-41c8-af92-a40b27da3a34",
     "showTitle": false,
     "title": ""
    }
   },
   "outputs": [],
   "source": [
    "avgSalary = empDF.agg({\"emp_salary\":\"avg\"})\n",
    "avgSalary.show()"
   ]
  },
  {
   "cell_type": "code",
   "execution_count": 0,
   "metadata": {
    "application/vnd.databricks.v1+cell": {
     "cellMetadata": {},
     "inputWidgets": {},
     "nuid": "b048a96c-0efd-466d-bb16-d2fbe03833a2",
     "showTitle": false,
     "title": ""
    }
   },
   "outputs": [],
   "source": [
    "query = 'SELECT emp_department, avg(emp_salary) as AVGEmpSalary FROM empView GROUP BY emp_department'\n",
    "results = spark.sql(query)\n",
    "results.show()"
   ]
  },
  {
   "cell_type": "code",
   "execution_count": 0,
   "metadata": {
    "application/vnd.databricks.v1+cell": {
     "cellMetadata": {},
     "inputWidgets": {},
     "nuid": "7904604d-0f6e-42a1-9c5d-199d8574e5f8",
     "showTitle": false,
     "title": ""
    }
   },
   "outputs": [],
   "source": [
    "depDF = spark.read.csv('data/dep.csv',header=True,inferSchema=True)"
   ]
  },
  {
   "cell_type": "code",
   "execution_count": 0,
   "metadata": {
    "application/vnd.databricks.v1+cell": {
     "cellMetadata": {},
     "inputWidgets": {},
     "nuid": "0a1dd0fd-516e-40bc-8db6-4f7dfd58fdc9",
     "showTitle": false,
     "title": ""
    }
   },
   "outputs": [],
   "source": [
    "depDF.createOrReplaceTempView('depView')"
   ]
  },
  {
   "cell_type": "code",
   "execution_count": 0,
   "metadata": {
    "application/vnd.databricks.v1+cell": {
     "cellMetadata": {},
     "inputWidgets": {},
     "nuid": "0562a2da-03fb-4893-9750-3adf8cdf36c4",
     "showTitle": false,
     "title": ""
    }
   },
   "outputs": [],
   "source": [
    "myquery = 'SELECT * from dep_view d JOIN emp_view e on d.emp_department = e.emp_department'\n",
    "\n",
    "result = spark.sql(myquery)\n",
    "\n",
    "result.show()"
   ]
  },
  {
   "cell_type": "code",
   "execution_count": 0,
   "metadata": {
    "application/vnd.databricks.v1+cell": {
     "cellMetadata": {
      "byteLimit": 2048000,
      "rowLimit": 10000
     },
     "inputWidgets": {},
     "nuid": "5800668d-e6d3-4bc1-85bc-296f6fdc5e58",
     "showTitle": false,
     "title": ""
    }
   },
   "outputs": [],
   "source": [
    "spark.catalog.dropTempView(\"empView\")\n",
    "spark.catalog.dropTempView(\"depView\")"
   ]
  }
 ],
 "metadata": {
  "application/vnd.databricks.v1+notebook": {
   "dashboards": [],
   "language": "python",
   "notebookMetadata": {
    "mostRecentlyExecutedCommandWithImplicitDF": {
     "commandId": 1249563665634426,
     "dataframes": [
      "_sqldf"
     ]
    },
    "pythonIndentUnit": 4
   },
   "notebookName": "08_SQL_In_PySpark(Local)",
   "widgets": {}
  },
  "kernelspec": {
   "display_name": "Python 3 (ipykernel)",
   "language": "python",
   "name": "python3"
  },
  "language_info": {
   "codemirror_mode": {
    "name": "ipython",
    "version": 3
   },
   "file_extension": ".py",
   "mimetype": "text/x-python",
   "name": "python",
   "nbconvert_exporter": "python",
   "pygments_lexer": "ipython3",
   "version": "3.12.1"
  }
 },
 "nbformat": 4,
 "nbformat_minor": 0
}
